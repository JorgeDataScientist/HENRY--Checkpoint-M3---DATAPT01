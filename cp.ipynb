{
 "cells": [
  {
   "attachments": {},
   "cell_type": "markdown",
   "metadata": {},
   "source": [
    "# Checkpoint - Módulo 3\n",
    "\n",
    "Cómo responder: <br>\n",
    "* Cuando se pida una respuesta numérica, redondear al segundo decimal. <br>\n",
    "   Ejemplo: 1.3421 -> 1.34;<br>\n",
    "            1.8888 -> 1.89;<br>\n",
    "            3 -> 3.00.<br>\n",
    "\n",
    "* Recuerda resolver los problemas de manera secuencial y pensar las consultas por partes. Además te resultará útil pensar di debes reutilizar la lógica de consulta de otro ejercicio.<br>\n",
    "\n",
    "## Responder Verdadero ó Falso\n",
    "\n",
    "### 1) Un índice SQL mejora la eficiencia y rapidéz en la búsqueda de información.<br>\n",
    "\n",
    "### 2) En la detección de Outliers, el método del Rango Intercuartil se basa en la utilización de la mediana.<br>\n",
    "\n",
    "### 3) Las tablas Maestros registran las operaciones ocurridas, todo tipo de transacciones donde intervienen las diferentes entidades del modelo.<br>\n"
   ]
  },
  {
   "attachments": {},
   "cell_type": "markdown",
   "metadata": {},
   "source": [
    "## Elegir la opción correcta en base a la observación del siguiente DER:\n",
    "\n",
    "<img src=\"DER.jpg\"  height=\"400\">"
   ]
  },
  {
   "attachments": {},
   "cell_type": "markdown",
   "metadata": {},
   "source": [
    "### 4) ¿Cuál de las siguientes es una tabla de hecho?\n",
    "1. canal_venta<br>\n",
    "2. calendario<br>\n",
    "3. tipo_producto<br>\n",
    "4. venta<br>"
   ]
  },
  {
   "attachments": {},
   "cell_type": "markdown",
   "metadata": {},
   "source": [
    "### 5) El DER mostrado en la imagen:\n",
    "1. Es un Modelo Estrella, porque tiene una única tabla de hechos.<br>\n",
    "2. Es un Modelo Copo de Nieve, porque de la tabla venta se desprenden el resto de tablas.<br>\n",
    "3. Niguna de las anteriores.<br>"
   ]
  },
  {
   "attachments": {},
   "cell_type": "markdown",
   "metadata": {},
   "source": [
    "### En tu motor de base de datos MySQL, ejecutá las instrucciones del script 'Checkpoint_Create_Insert.sql' (Si no trabajas con MySQL es posible que tengas que realizar algunos ajustes en el script. También están provistas las tablas en formato csv dentro de la carpeta 'tablas_cp')."
   ]
  },
  {
   "attachments": {},
   "cell_type": "markdown",
   "metadata": {},
   "source": [
    "### 6) La ganancia neta por sucursal es las ventas menos los gastos (Ganancia = Venta - Gasto) ¿Cuál es la sucursal con mayor ganancia neta en 2019? \n",
    "1. Alberdi<br>\n",
    "2. Flores<br>\n",
    "3. Corrientes<br>"
   ]
  },
  {
   "attachments": {},
   "cell_type": "markdown",
   "metadata": {},
   "source": [
    "### 7) La ganancia neta por producto es las ventas menos las compras (Ganancia = Venta - Compra) ¿Cuál es el tipo de producto con mayor ganancia neta en 2019?\n",
    "1. Informática<br>\n",
    "2. Impresión<br>\n",
    "3. Grabacion<br>"
   ]
  },
  {
   "attachments": {},
   "cell_type": "markdown",
   "metadata": {},
   "source": [
    "### 8) Del total de clientes que realizaron compras en 2019 ¿Qué porcentaje lo hizo en al menos dos sucursales? (expresado en porcentaje y con dos decimales, por ejemplo 11.11)"
   ]
  },
  {
   "attachments": {},
   "cell_type": "markdown",
   "metadata": {},
   "source": [
    "### 9) Del total de clientes que realizaron compras en 2020 ¿Qué porcentaje no había realizado compras en 2019? (expresado en porcentaje y con dos decimales, por ejemplo 11.11)\n"
   ]
  },
  {
   "attachments": {},
   "cell_type": "markdown",
   "metadata": {},
   "source": [
    "### 10) Del total de clientes que realizaron compras en 2019 ¿Qué porcentaje lo hizo también en 2020? (expresado en porcentaje y con dos decimales, por ejemplo 11.11)"
   ]
  },
  {
   "attachments": {},
   "cell_type": "markdown",
   "metadata": {},
   "source": [
    "### 11) ¿Qué cantidad de clientes realizó compras sólo por el canal Presencial entre 2019 y 2020?"
   ]
  },
  {
   "attachments": {},
   "cell_type": "markdown",
   "metadata": {},
   "source": [
    "### 12) ¿Cuál es la sucursal que más Venta (Precio * Cantidad) hizo en 2019 a clientes que viven fuera de su provincia?\n",
    "1. Flores<br>\n",
    "2. Rosario1<br>\n",
    "3. Córdoba Centro<br>"
   ]
  },
  {
   "attachments": {},
   "cell_type": "markdown",
   "metadata": {},
   "source": [
    "### 13) ¿Cuál fué el mes del año 2020, de mayor decrecimiento (o menor crecimiento) con respecto al mismo mes del año 2019 si se toman en cuenta a nivel general Ventas (Precio * Cantidad) - Compras (Precio * Cantidad) - Gastos? \n",
    "#### Responder el Número del Mes:"
   ]
  },
  {
   "attachments": {},
   "cell_type": "markdown",
   "metadata": {},
   "source": [
    "### 14) El negocio suele requerir con gran frecuencia consultas a nivel trimestral tanto sobre las ventas, como las compras y los gastos, entonces:\n",
    "1. Con los índices creados existentes, sólo sobre las claves primarias y foráneas, sería suficiente para cubrir cualquier necesidad de consulta.<br>\n",
    "2. Sería aduecuado colocar un índice sobre el campo trimestre de la tabla calendario aunque este no sea una clave foránea.<br>\n",
    "3. No se puede crear índices sobre campos que no son clave.<br>"
   ]
  },
  {
   "attachments": {},
   "cell_type": "markdown",
   "metadata": {},
   "source": [
    "### Cada una de las sucursales de la provincia de Córdoba, disponibilizaron un excel donde registraron el porcentaje de comisión que se le otorgó a cada uno de los empleados sobre la venta que realizaron. Es necesario incluir esas tablas (Comisiones Córdoba Centro.xlsx, Comisiones Córdoba Quiróz.xlsx y Comisiones Córdoba Cerro de las Rosas.xlsx) en el modelo y contestar las siguientes preguntas:\n",
    "### 15) ¿Cuál es el código de empleado del empleado que mayor comisión obtuvo en diciembre del año 2020?"
   ]
  },
  {
   "attachments": {},
   "cell_type": "markdown",
   "metadata": {},
   "source": [
    "### 16) ¿Cuál es la sucursal que más comisión pagó en el año 2020?\n",
    "1. Córdoba Centro.<br>\n",
    "2. Córdoba Quiroz.<br>\n",
    "3. Cerro De Las Rosas.<br>"
   ]
  }
 ],
 "metadata": {
  "language_info": {
   "name": "python"
  },
  "orig_nbformat": 4
 },
 "nbformat": 4,
 "nbformat_minor": 2
}
